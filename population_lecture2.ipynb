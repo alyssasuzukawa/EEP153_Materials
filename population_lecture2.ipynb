{
 "cells": [
  {
   "cell_type": "markdown",
   "metadata": {},
   "source": [
    "## Malthus\n",
    "\n"
   ]
  },
  {
   "cell_type": "markdown",
   "metadata": {},
   "source": [
    "Among all the things ever written by social scientists (or\n",
    "&ldquo;political philosophers&rdquo;, to use a term he would have recognized),\n",
    "Malthus&rsquo; [&ldquo;Essay on Population&rdquo; (1798)](https://oll.libertyfund.org/titles/malthus-an-essay-on-the-principle-of-population-1798-1st-ed) must be among the most\n",
    "influential.  You can find the first edition at the link above.\n",
    "The main argument is spelled out in Chapter 1, which I encourage\n",
    "you to read.  A key point of the essay begins with [two postulata](https://oll.libertyfund.org/titles/311#Malthus_0195_20):\n",
    "\n",
    "-   **First:** That food is necessary to the existence of man.\n",
    "-   **Secondly:** That the passion between the sexes is necessary and\n",
    "    will remain nearly in its present state.\n",
    "\n",
    "   These lead to a conclusion:\n",
    ">    &ldquo;Assuming then, my postulata as granted, I say, that the power of\n",
    ">    population is indefinitely greater than the power in the earth to\n",
    ">    produce subsistence for man.  Population, when unchecked, increases\n",
    ">    in a geometrical ratio. Subsistence increases only in an\n",
    ">    arithmetical ratio. A slight acquaintance with numbers will shew\n",
    ">    the immensity of the first power in comparison of the second.&rdquo;\n",
    "\n"
   ]
  },
  {
   "cell_type": "markdown",
   "metadata": {},
   "source": [
    "### Malthus meets math\n",
    "\n"
   ]
  },
  {
   "cell_type": "markdown",
   "metadata": {},
   "source": [
    "Malthus&rsquo; argument boils down to a mathematical assertion: that\n",
    "population grows at an exponential rate, while food production\n",
    "increases only linearly.  \n",
    "\n",
    "If we lack a &ldquo;slight acquaintance&rdquo; with numbers a graph makes the\n",
    "point:\n",
    "\n"
   ]
  },
  {
   "cell_type": "code",
   "execution_count": 1,
   "metadata": {},
   "outputs": [],
   "source": [
    "from plotly.offline import init_notebook_mode, iplot\n",
    "import numpy as np\n",
    "from scipy.optimize import newton\n",
    "\n",
    "init_notebook_mode(connected=True)\n",
    "\n",
    "# Play with these constants\n",
    "## for exponential\n",
    "A = 1\n",
    "r = 0.1\n",
    "\n",
    "## for line\n",
    "b = 10\n",
    "m = 100\n",
    "\n",
    "food_production = lambda t: b+m*t\n",
    "\n",
    "population = lambda t: A*np.exp(r*t)\n",
    "\n",
    "diff = lambda t: food_production(t) - population(t)\n",
    "\n",
    "# Point where curves cross\n",
    "# Point where curves cross\n",
    "x0 = 10\n",
    "tstar = -1\n",
    "while tstar <= 0:\n",
    "  tstar = newton(diff,x0,maxiter=1000)\n",
    "  x0 = x0*10\n",
    "    \n",
    "print(tstar)"
   ]
  },
  {
   "cell_type": "code",
   "execution_count": 1,
   "metadata": {},
   "outputs": [],
   "source": [
    "T=np.linspace(0,tstar*1.1,1000)\n",
    "\n",
    "\n",
    "data = [dict(name='Food production',\n",
    "             #visible = False,\n",
    "             line=dict(color='blue', width=6),\n",
    "             x = T,\n",
    "             y = [food_production(t) for t in T]),\n",
    "        dict(name='Population',\n",
    "             #visible = False,\n",
    "             line=dict(color='red', width=6),\n",
    "             x = T,\n",
    "             y = [population(t) for t in T])]\n",
    "\n",
    "layout = dict()\n",
    "fig = dict(data=data, layout=layout)\n",
    "\n",
    "iplot(fig)"
   ]
  },
  {
   "cell_type": "markdown",
   "metadata": {},
   "source": [
    "## Looking for food\n",
    "\n"
   ]
  },
  {
   "cell_type": "markdown",
   "metadata": {},
   "source": [
    "What’s happened to food production over recent decades?\n",
    "\n"
   ]
  },
  {
   "cell_type": "markdown",
   "metadata": {},
   "source": [
    "### Preface\n",
    "\n"
   ]
  },
  {
   "cell_type": "code",
   "execution_count": 1,
   "metadata": {},
   "outputs": [],
   "source": [
    "#!import wbdata\n",
    "#!import cufflinks\n",
    "\n",
    "import wbdata\n",
    "import cufflinks as cf\n",
    "cf.go_offline()\n",
    "\n",
    "def fix_date_index(df):\n",
    "    idx_vars = df.index.names\n",
    "    new = df.reset_index()\n",
    "    new.date = new.date.astype(int)\n",
    "    return new.set_index(idx_vars)"
   ]
  },
  {
   "cell_type": "markdown",
   "metadata": {},
   "source": [
    "### Finding data\n",
    "\n"
   ]
  },
  {
   "cell_type": "markdown",
   "metadata": {},
   "source": [
    "Maybe there&rsquo;s something relevant to food production in the WDI\n",
    "indicators?\n",
    "\n"
   ]
  },
  {
   "cell_type": "code",
   "execution_count": 1,
   "metadata": {},
   "outputs": [],
   "source": [
    "wbdata.get_topic()"
   ]
  },
  {
   "cell_type": "markdown",
   "metadata": {},
   "source": [
    "&ldquo;Agriculture & Rural Development&rdquo; sounds relevant.  Let&rsquo;s see what\n",
    "variables are available:\n",
    "\n"
   ]
  },
  {
   "cell_type": "code",
   "execution_count": 1,
   "metadata": {},
   "outputs": [],
   "source": [
    "wbdata.get_indicator(topic=1)"
   ]
  },
  {
   "cell_type": "markdown",
   "metadata": {},
   "source": [
    "### Cereal production & land\n",
    "\n"
   ]
  },
  {
   "cell_type": "markdown",
   "metadata": {},
   "source": [
    "The great majority of food (as measured by calories) originates in the\n",
    "form of cereals; some of these are turned into products directly\n",
    "consumed by humans (bread, rice, hominy); others are used to feed\n",
    "livestock, which humans subsequently eat.  So what&rsquo;s happened to\n",
    "cereal production over the last few decades?\n",
    "\n"
   ]
  },
  {
   "cell_type": "code",
   "execution_count": 1,
   "metadata": {},
   "outputs": [],
   "source": [
    "vars = {\"AG.PRD.CREL.MT\":\"Cereal production\"}\n",
    "\n",
    "# Use this to find top producers:\n",
    "#big_producers = cereals.query('date==2000').squeeze().sort_values(ascending=False)\n",
    "#big_producers.head(20)\n",
    "\n",
    "use=[\"CHN\",\"USA\",\"IND\",\"FRA\",\"RUS\",\"WLD\"]\n",
    "\n",
    "cereals = fix_date_index(wbdata.get_dataframe(vars,country=use)).squeeze().unstack('country')\n",
    "\n",
    "cereals.iplot(xTitle=\"Year\",yTitle=\"Metric Tons\",\n",
    "              title=\"Cereal Production by Top 5 (in 2000)\")"
   ]
  },
  {
   "cell_type": "markdown",
   "metadata": {},
   "source": [
    "### FAO Food Index\n",
    "\n"
   ]
  },
  {
   "cell_type": "markdown",
   "metadata": {},
   "source": [
    "The FAO compiles a series of data meant to measure changes in the\n",
    "   supply of food of all sorts, including both plant and animal\n",
    "   sources.  Let&rsquo;s how that&rsquo;s changed over recent decades:\n",
    "\n"
   ]
  },
  {
   "cell_type": "code",
   "execution_count": 1,
   "metadata": {},
   "outputs": [],
   "source": [
    "vars = {\"AG.PRD.LVSK.XD\":\"Livestock index\",\n",
    "        \"AG.PRD.FOOD.XD\":\"Food index\",\n",
    "        \"AG.PRD.CROP.XD\":\"Crop index\"}\n",
    "\n",
    "food = fix_date_index(wbdata.get_dataframe(vars,country='WLD'))\n",
    "\n",
    "food.iplot(xTitle=\"Year\",yTitle=\"Index\")"
   ]
  },
  {
   "cell_type": "markdown",
   "metadata": {},
   "source": [
    "From this we don&rsquo;t get levels; the indices are normalized so that 2006\n",
    "is 100.  Let&rsquo;s compare this with a similarly normalized description of\n",
    "world population:\n",
    "\n"
   ]
  },
  {
   "cell_type": "code",
   "execution_count": 1,
   "metadata": {},
   "outputs": [],
   "source": [
    "vars = {\"AG.PRD.LVSK.XD\":\"Livestock index\",\n",
    "        \"AG.PRD.FOOD.XD\":\"Food index\",\n",
    "        \"AG.PRD.CROP.XD\":\"Crop index\",\n",
    "        \"SP.POP.TOTL\":\"Population\"}\n",
    "\n",
    "food = fix_date_index(wbdata.get_dataframe(vars,country='WLD'))\n",
    "\n",
    "food.sort_index(inplace=True)\n",
    "\n",
    "food['Population'] = food['Population']/food.loc[2006,'Population']*100\n",
    "\n",
    "food.iplot(xTitle=\"Year\",yTitle=\"Index\")"
   ]
  },
  {
   "cell_type": "markdown",
   "metadata": {},
   "source": [
    "And here in growth rates:\n",
    "\n"
   ]
  },
  {
   "cell_type": "code",
   "execution_count": 1,
   "metadata": {},
   "outputs": [],
   "source": [
    "np.log(food).diff().iplot(xTitle=\"Year\",yTitle=\"Growth rates\")"
   ]
  }
 ],
 "metadata": {
  "kernelspec": {
   "display_name": "Python 3",
   "language": "python",
   "name": "python3"
  },
  "language_info": {
   "codemirror_mode": {
    "name": "ipython",
    "version": 3
   },
   "file_extension": ".py",
   "mimetype": "text/x-python",
   "name": "python",
   "nbconvert_exporter": "python",
   "pygments_lexer": "ipython3",
   "version": "3.7.4"
  },
  "org": null
 },
 "nbformat": 4,
 "nbformat_minor": 1
}
